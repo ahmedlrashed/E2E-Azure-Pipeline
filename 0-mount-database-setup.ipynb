{
    "metadata": {
        "kernelspec": {
            "name": "SQL",
            "display_name": "SQL",
            "language": "sql"
        },
        "language_info": {
            "name": "sql",
            "version": ""
        },
        "application/vnd.databricks.v1+notebook": {
            "dashboards": [],
            "environmentMetadata": null,
            "language": "python",
            "notebookMetadata": {
                "pythonIndentUnit": 2
            },
            "notebookName": "0-mount-database-setup",
            "widgets": {}
        }
    },
    "nbformat_minor": 2,
    "nbformat": 4,
    "cells": [
        {
            "cell_type": "markdown",
            "source": [
                "\n",
                "### Step 1: Connect to ADLS\n",
                "\n",
                "Since we are using Azure Credentials Passthrough connection method, we just need to use the custom access token and mount the folder that has all our TestStand files. "
            ],
            "metadata": {
                "application/vnd.databricks.v1+cell": {
                    "cellMetadata": {
                        "byteLimit": 2048000,
                        "rowLimit": 10000
                    },
                    "inputWidgets": {},
                    "nuid": "84d079e4-93e8-460d-9d95-54a3fa326ca1",
                    "showTitle": false,
                    "title": ""
                },
                "azdata_cell_guid": "dd20c568-3c21-421a-9f5d-af8adee94ee3"
            }
        },
        {
            "cell_type": "code",
            "source": [
                "# Declare script variables\n",
                "database_name = \"dbo\"\n",
                "\n",
                "bronze_source = \"REDACTED\"\n",
                "bronze_target = bronze_source + database_name\n",
                "bronze_mnt = \"/mnt/bronze/\" + database_name\n",
                "\n",
                "silver_source = \"REDACTED\"\n",
                "silver_target = silver_source + database_name\n",
                "silver_mnt = \"/mnt/silver/\" + database_name\n",
                "\n",
                "gold_source = \"REDACTED\"\n",
                "gold_target = gold_source + database_name\n",
                "gold_mnt = \"/mnt/gold/\" + database_name\n",
                "\n",
                "# Azure Credentials Passthrough configuration.\n",
                "configs = {\n",
                "  \"fs.azure.account.auth.type\": \"CustomAccessToken\",\n",
                "  \"fs.azure.account.custom.token.provider.class\": spark.conf.get(\"spark.databricks.passthrough.adls.gen2.tokenProviderClassName\")\n",
                "}\n",
                ""
            ],
            "metadata": {
                "application/vnd.databricks.v1+cell": {
                    "cellMetadata": {
                        "byteLimit": 2048000,
                        "rowLimit": 10000
                    },
                    "inputWidgets": {},
                    "nuid": "c760fc54-dbf0-4715-8df6-8fdff699c029",
                    "showTitle": false,
                    "title": ""
                },
                "azdata_cell_guid": "850471e2-c668-4dfe-90d0-b96160e086b4",
                "language": "sql"
            },
            "outputs": [],
            "execution_count": null
        },
        {
            "cell_type": "markdown",
            "source": [
                "\n",
                "### Step 2: Mount bronze container\n"
            ],
            "metadata": {
                "application/vnd.databricks.v1+cell": {
                    "cellMetadata": {
                        "byteLimit": 2048000,
                        "rowLimit": 10000
                    },
                    "inputWidgets": {},
                    "nuid": "51114086-25f5-4c9c-8bb3-64ff28b0f0f4",
                    "showTitle": false,
                    "title": ""
                },
                "azdata_cell_guid": "d2ff07a3-2a61-4c99-91a4-d97d334ec23f"
            }
        },
        {
            "cell_type": "code",
            "source": [
                "# Add bronze_mnt if not already mounted.\n",
                "if any(mount.mountPoint == bronze_mnt for mount in dbutils.fs.mounts()):\n",
                "    pass\n",
                "else:\n",
                "    dbutils.fs.mount(\n",
                "        source=bronze_source, mount_point=bronze_mnt, extra_configs=configs\n",
                "    )\n",
                "\n",
                "# List files in directory\n",
                "dbutils.fs.ls(bronze_target)"
            ],
            "metadata": {
                "application/vnd.databricks.v1+cell": {
                    "cellMetadata": {
                        "byteLimit": 2048000,
                        "rowLimit": 10000
                    },
                    "inputWidgets": {},
                    "nuid": "f6366891-7da1-478e-8094-4291f4fca976",
                    "showTitle": false,
                    "title": ""
                },
                "jupyter": {
                    "outputs_hidden": true
                },
                "azdata_cell_guid": "8277cc5c-12ee-4c86-98bd-60f0b591d431",
                "language": "sql"
            },
            "outputs": [],
            "execution_count": null
        },
        {
            "cell_type": "markdown",
            "source": [
                "\n",
                "### Step 3: Mount silver container\n"
            ],
            "metadata": {
                "application/vnd.databricks.v1+cell": {
                    "cellMetadata": {
                        "byteLimit": 2048000,
                        "rowLimit": 10000
                    },
                    "inputWidgets": {},
                    "nuid": "92108b48-e8f5-4d0d-9d24-3775b36ca207",
                    "showTitle": false,
                    "title": ""
                },
                "azdata_cell_guid": "cbacd208-1026-4aa1-9eed-a89592cd3a6a"
            }
        },
        {
            "cell_type": "code",
            "source": [
                "# Add silver_mnt if not already mounted.\n",
                "if any(mount.mountPoint == silver_mnt for mount in dbutils.fs.mounts()):\n",
                "    pass\n",
                "else:\n",
                "    dbutils.fs.mount(\n",
                "        source=silver_source, mount_point=silver_mnt, extra_configs=configs\n",
                "    )\n",
                "\n",
                "# List files in directory\n",
                "dbutils.fs.ls(silver_target)"
            ],
            "metadata": {
                "application/vnd.databricks.v1+cell": {
                    "cellMetadata": {
                        "byteLimit": 2048000,
                        "rowLimit": 10000
                    },
                    "inputWidgets": {},
                    "nuid": "fec0eb47-1220-48a6-81b4-adb261a7265a",
                    "showTitle": false,
                    "title": ""
                },
                "jupyter": {
                    "outputs_hidden": true
                },
                "azdata_cell_guid": "a8596681-d7d8-431b-a2c3-1fce9d009e78",
                "language": "sql"
            },
            "outputs": [],
            "execution_count": null
        },
        {
            "cell_type": "markdown",
            "source": [
                "\n",
                "### Step 4: Mount gold container\n"
            ],
            "metadata": {
                "application/vnd.databricks.v1+cell": {
                    "cellMetadata": {
                        "byteLimit": 2048000,
                        "rowLimit": 10000
                    },
                    "inputWidgets": {},
                    "nuid": "8abe7239-0632-4b90-baf0-38549b038a38",
                    "showTitle": false,
                    "title": ""
                },
                "azdata_cell_guid": "6c78e313-cc79-4395-befb-72207e86899d"
            }
        },
        {
            "cell_type": "code",
            "source": [
                "# Add gold_mnt if not already mounted.\n",
                "if any(mount.mountPoint == gold_mnt for mount in dbutils.fs.mounts()):\n",
                "    pass\n",
                "else:\n",
                "    dbutils.fs.mount(\n",
                "      source=gold_source, mount_point=gold_mnt, extra_configs=configs\n",
                "    )\n",
                "\n",
                "# List files in directory\n",
                "dbutils.fs.ls(gold_target)"
            ],
            "metadata": {
                "application/vnd.databricks.v1+cell": {
                    "cellMetadata": {
                        "byteLimit": 2048000,
                        "rowLimit": 10000
                    },
                    "inputWidgets": {},
                    "nuid": "6482be4c-f067-47c9-b0ac-35c938b94601",
                    "showTitle": false,
                    "title": ""
                },
                "jupyter": {
                    "outputs_hidden": true
                },
                "azdata_cell_guid": "fd26d2c5-fa33-4989-b968-73df15923bfc",
                "language": "sql"
            },
            "outputs": [
                {
                    "output_type": "execute_result",
                    "execution_count": 13,
                    "data": {
                        "text/plain": "[]"
                    },
                    "metadata": {}
                }
            ],
            "execution_count": null
        },
        {
            "cell_type": "markdown",
            "source": [
                "\n",
                "### Step 5: Setup Database and Extract Data to Tables in Databricks\n",
                "\n",
                "We instantiate a DBFS database and USE it. Then we iterate over the TSDB directory at that level and create a table for each CSV file in that mount point. \n"
            ],
            "metadata": {
                "application/vnd.databricks.v1+cell": {
                    "cellMetadata": {
                        "byteLimit": 2048000,
                        "rowLimit": 10000
                    },
                    "inputWidgets": {},
                    "nuid": "924e86aa-daeb-4954-beaf-9af51c50547a",
                    "showTitle": false,
                    "title": ""
                },
                "azdata_cell_guid": "c33c5ab3-1ff4-4951-bdaa-00c329953d34"
            }
        },
        {
            "cell_type": "code",
            "source": [
                "# Create and use DATABASE [drop IF ALREADY EXISTS]\n",
                "spark.sql(f\"drop database IF EXISTS {database_name} cascade \")\n",
                "spark.sql(f\"create database {database_name}\")\n",
                "spark.sql(f\"use {database_name}\")\n",
                "\n",
                "# Create all tables into DBFS database\n",
                "tables_list = dbutils.fs.ls(bronze_target)\n",
                "\n",
                "for table in tables_list:\n",
                "    table_name = table.name.strip(\".parquet\")\n",
                "    spark.sql(f\"DROP TABLE IF EXISTS `{table_name}`\")\n",
                "    spark.sql(f\"\"\"\n",
                "              CREATE TABLE `{table_name}` \n",
                "              USING parquet \n",
                "              OPTIONS(path '{table.path}', header 'true', inferschema 'true')\n",
                "              \"\"\")\n"
            ],
            "metadata": {
                "application/vnd.databricks.v1+cell": {
                    "cellMetadata": {
                        "byteLimit": 2048000,
                        "rowLimit": 10000
                    },
                    "inputWidgets": {},
                    "nuid": "b799691d-119e-4451-af1e-ecec87e6083b",
                    "showTitle": false,
                    "title": ""
                },
                "azdata_cell_guid": "c2b948d0-f521-47ac-8a4b-f45999a07f27",
                "language": "sql"
            },
            "outputs": [],
            "execution_count": null
        }
    ]
}