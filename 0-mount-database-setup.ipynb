{
 "cells": [
  {
   "cell_type": "markdown",
   "metadata": {
    "application/vnd.databricks.v1+cell": {
     "cellMetadata": {
      "byteLimit": 2048000,
      "rowLimit": 10000
     },
     "inputWidgets": {},
     "nuid": "84d079e4-93e8-460d-9d95-54a3fa326ca1",
     "showTitle": false,
     "title": ""
    }
   },
   "source": [
    "\n",
    "### Step 1: Connect to ADLS\n",
    "\n",
    "Since we are using Azure Credentials Passthrough connection method, we just need to use the custom access token and mount the folder that has all our TestStand files. "
   ]
  },
  {
   "cell_type": "code",
   "execution_count": 0,
   "metadata": {
    "application/vnd.databricks.v1+cell": {
     "cellMetadata": {
      "byteLimit": 2048000,
      "rowLimit": 10000
     },
     "inputWidgets": {},
     "nuid": "c760fc54-dbf0-4715-8df6-8fdff699c029",
     "showTitle": false,
     "title": ""
    }
   },
   "outputs": [],
   "source": [
    "# Declare script variables\n",
    "database_name = \"dbo\"\n",
    "\n",
    "bronze_source = \"abfss://bronze@arcdatalakeg2.dfs.core.windows.net/\"\n",
    "bronze_target = bronze_source + database_name\n",
    "bronze_mnt = \"/mnt/bronze/\" + database_name\n",
    "\n",
    "silver_source = \"abfss://silver@arcdatalakeg2.dfs.core.windows.net/\"\n",
    "silver_target = silver_source + database_name\n",
    "silver_mnt = \"/mnt/silver/\" + database_name\n",
    "\n",
    "gold_source = \"abfss://gold@arcdatalakeg2.dfs.core.windows.net/\"\n",
    "gold_target = gold_source + database_name\n",
    "gold_mnt = \"/mnt/gold/\" + database_name\n",
    "\n",
    "# Azure Credentials Passthrough configuration.\n",
    "configs = {\n",
    "  \"fs.azure.account.auth.type\": \"CustomAccessToken\",\n",
    "  \"fs.azure.account.custom.token.provider.class\": spark.conf.get(\"spark.databricks.passthrough.adls.gen2.tokenProviderClassName\")\n",
    "}\n"
   ]
  },
  {
   "cell_type": "markdown",
   "metadata": {
    "application/vnd.databricks.v1+cell": {
     "cellMetadata": {
      "byteLimit": 2048000,
      "rowLimit": 10000
     },
     "inputWidgets": {},
     "nuid": "51114086-25f5-4c9c-8bb3-64ff28b0f0f4",
     "showTitle": false,
     "title": ""
    }
   },
   "source": [
    "\n",
    "### Step 2: Mount bronze container\n"
   ]
  },
  {
   "cell_type": "code",
   "execution_count": 0,
   "metadata": {
    "application/vnd.databricks.v1+cell": {
     "cellMetadata": {
      "byteLimit": 2048000,
      "rowLimit": 10000
     },
     "inputWidgets": {},
     "nuid": "f6366891-7da1-478e-8094-4291f4fca976",
     "showTitle": false,
     "title": ""
    },
    "jupyter": {
     "outputs_hidden": true
    }
   },
   "outputs": [
    {
     "output_type": "execute_result",
     "data": {
      "text/plain": [
       "[FileInfo(path='abfss://bronze@arcdatalakeg2.dfs.core.windows.net/dbo/PROP_ANALOGWAVEFORM.parquet', name='PROP_ANALOGWAVEFORM.parquet', size=343, modificationTime=1708270317000),\n",
       " FileInfo(path='abfss://bronze@arcdatalakeg2.dfs.core.windows.net/dbo/PROP_BINARY.parquet', name='PROP_BINARY.parquet', size=1044738, modificationTime=1708270299000),\n",
       " FileInfo(path='abfss://bronze@arcdatalakeg2.dfs.core.windows.net/dbo/PROP_DIGITALWAVEFORM.parquet', name='PROP_DIGITALWAVEFORM.parquet', size=311, modificationTime=1708270284000),\n",
       " FileInfo(path='abfss://bronze@arcdatalakeg2.dfs.core.windows.net/dbo/PROP_NUMERICLIMIT.parquet', name='PROP_NUMERICLIMIT.parquet', size=1289983, modificationTime=1708270268000),\n",
       " FileInfo(path='abfss://bronze@arcdatalakeg2.dfs.core.windows.net/dbo/PROP_RESULT.parquet', name='PROP_RESULT.parquet', size=23944627, modificationTime=1708270257000),\n",
       " FileInfo(path='abfss://bronze@arcdatalakeg2.dfs.core.windows.net/dbo/STEP_RESULT.parquet', name='STEP_RESULT.parquet', size=17115510, modificationTime=1708270237000),\n",
       " FileInfo(path='abfss://bronze@arcdatalakeg2.dfs.core.windows.net/dbo/STEP_SEQCALL.parquet', name='STEP_SEQCALL.parquet', size=732123, modificationTime=1708270216000),\n",
       " FileInfo(path='abfss://bronze@arcdatalakeg2.dfs.core.windows.net/dbo/UUT_RESULT.parquet', name='UUT_RESULT.parquet', size=91031, modificationTime=1708270197000)]"
      ]
     },
     "execution_count": 11,
     "metadata": {},
     "output_type": "execute_result"
    }
   ],
   "source": [
    "# Add bronze_mnt if not already mounted.\n",
    "if any(mount.mountPoint == bronze_mnt for mount in dbutils.fs.mounts()):\n",
    "    pass\n",
    "else:\n",
    "    dbutils.fs.mount(\n",
    "        source=bronze_source, mount_point=bronze_mnt, extra_configs=configs\n",
    "    )\n",
    "\n",
    "# List files in directory\n",
    "dbutils.fs.ls(bronze_target)"
   ]
  },
  {
   "cell_type": "markdown",
   "metadata": {
    "application/vnd.databricks.v1+cell": {
     "cellMetadata": {
      "byteLimit": 2048000,
      "rowLimit": 10000
     },
     "inputWidgets": {},
     "nuid": "92108b48-e8f5-4d0d-9d24-3775b36ca207",
     "showTitle": false,
     "title": ""
    }
   },
   "source": [
    "\n",
    "### Step 3: Mount silver container\n"
   ]
  },
  {
   "cell_type": "code",
   "execution_count": 0,
   "metadata": {
    "application/vnd.databricks.v1+cell": {
     "cellMetadata": {
      "byteLimit": 2048000,
      "rowLimit": 10000
     },
     "inputWidgets": {},
     "nuid": "fec0eb47-1220-48a6-81b4-adb261a7265a",
     "showTitle": false,
     "title": ""
    },
    "jupyter": {
     "outputs_hidden": true
    }
   },
   "outputs": [
    {
     "output_type": "execute_result",
     "data": {
      "text/plain": [
       "[FileInfo(path='abfss://silver@arcdatalakeg2.dfs.core.windows.net/dbo/SEQUENCE_NAME=352018/', name='SEQUENCE_NAME=352018/', size=0, modificationTime=1716335887000),\n",
       " FileInfo(path='abfss://silver@arcdatalakeg2.dfs.core.windows.net/dbo/SEQUENCE_NAME=352021/', name='SEQUENCE_NAME=352021/', size=0, modificationTime=1716335889000),\n",
       " FileInfo(path='abfss://silver@arcdatalakeg2.dfs.core.windows.net/dbo/SEQUENCE_NAME=Common/', name='SEQUENCE_NAME=Common/', size=0, modificationTime=1716335890000),\n",
       " FileInfo(path='abfss://silver@arcdatalakeg2.dfs.core.windows.net/dbo/_SUCCESS', name='_SUCCESS', size=0, modificationTime=1716339968000),\n",
       " FileInfo(path='abfss://silver@arcdatalakeg2.dfs.core.windows.net/dbo/_committed_195459914639509100', name='_committed_195459914639509100', size=35, modificationTime=1716336105000)]"
      ]
     },
     "execution_count": 12,
     "metadata": {},
     "output_type": "execute_result"
    }
   ],
   "source": [
    "# Add silver_mnt if not already mounted.\n",
    "if any(mount.mountPoint == silver_mnt for mount in dbutils.fs.mounts()):\n",
    "    pass\n",
    "else:\n",
    "    dbutils.fs.mount(\n",
    "        source=silver_source, mount_point=silver_mnt, extra_configs=configs\n",
    "    )\n",
    "\n",
    "# List files in directory\n",
    "dbutils.fs.ls(silver_target)"
   ]
  },
  {
   "cell_type": "markdown",
   "metadata": {
    "application/vnd.databricks.v1+cell": {
     "cellMetadata": {
      "byteLimit": 2048000,
      "rowLimit": 10000
     },
     "inputWidgets": {},
     "nuid": "8abe7239-0632-4b90-baf0-38549b038a38",
     "showTitle": false,
     "title": ""
    }
   },
   "source": [
    "\n",
    "### Step 4: Mount gold container\n"
   ]
  },
  {
   "cell_type": "code",
   "execution_count": 0,
   "metadata": {
    "application/vnd.databricks.v1+cell": {
     "cellMetadata": {
      "byteLimit": 2048000,
      "rowLimit": 10000
     },
     "inputWidgets": {},
     "nuid": "6482be4c-f067-47c9-b0ac-35c938b94601",
     "showTitle": false,
     "title": ""
    },
    "jupyter": {
     "outputs_hidden": true
    }
   },
   "outputs": [
    {
     "output_type": "execute_result",
     "data": {
      "text/plain": [
       "[]"
      ]
     },
     "execution_count": 13,
     "metadata": {},
     "output_type": "execute_result"
    }
   ],
   "source": [
    "# Add gold_mnt if not already mounted.\n",
    "if any(mount.mountPoint == gold_mnt for mount in dbutils.fs.mounts()):\n",
    "    pass\n",
    "else:\n",
    "    dbutils.fs.mount(\n",
    "      source=gold_source, mount_point=gold_mnt, extra_configs=configs\n",
    "    )\n",
    "\n",
    "# List files in directory\n",
    "dbutils.fs.ls(gold_target)"
   ]
  },
  {
   "cell_type": "markdown",
   "metadata": {
    "application/vnd.databricks.v1+cell": {
     "cellMetadata": {
      "byteLimit": 2048000,
      "rowLimit": 10000
     },
     "inputWidgets": {},
     "nuid": "924e86aa-daeb-4954-beaf-9af51c50547a",
     "showTitle": false,
     "title": ""
    }
   },
   "source": [
    "\n",
    "### Step 5: Setup Database and Extract Data to Tables in Databricks\n",
    "\n",
    "We instantiate a DBFS database and USE it. Then we iterate over the TSDB directory at that level and create a table for each CSV file in that mount point. \n"
   ]
  },
  {
   "cell_type": "code",
   "execution_count": 0,
   "metadata": {
    "application/vnd.databricks.v1+cell": {
     "cellMetadata": {
      "byteLimit": 2048000,
      "rowLimit": 10000
     },
     "inputWidgets": {},
     "nuid": "b799691d-119e-4451-af1e-ecec87e6083b",
     "showTitle": false,
     "title": ""
    }
   },
   "outputs": [],
   "source": [
    "# Create and use DATABASE [drop IF ALREADY EXISTS]\n",
    "spark.sql(f\"drop database IF EXISTS {database_name} cascade \")\n",
    "spark.sql(f\"create database {database_name}\")\n",
    "spark.sql(f\"use {database_name}\")\n",
    "\n",
    "# Create all tables into DBFS database\n",
    "tables_list = dbutils.fs.ls(bronze_target)\n",
    "\n",
    "for table in tables_list:\n",
    "    table_name = table.name.strip(\".parquet\")\n",
    "    spark.sql(f\"DROP TABLE IF EXISTS `{table_name}`\")\n",
    "    spark.sql(f\"\"\"\n",
    "              CREATE TABLE `{table_name}` \n",
    "              USING parquet \n",
    "              OPTIONS(path '{table.path}', header 'true', inferschema 'true')\n",
    "              \"\"\")\n"
   ]
  }
 ],
 "metadata": {
  "application/vnd.databricks.v1+notebook": {
   "dashboards": [],
   "environmentMetadata": null,
   "language": "python",
   "notebookMetadata": {
    "pythonIndentUnit": 2
   },
   "notebookName": "0-mount-database-setup",
   "widgets": {}
  }
 },
 "nbformat": 4,
 "nbformat_minor": 0
}
